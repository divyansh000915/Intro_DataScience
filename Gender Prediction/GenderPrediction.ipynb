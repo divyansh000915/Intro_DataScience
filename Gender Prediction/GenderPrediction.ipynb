{
 "cells": [
  {
   "cell_type": "code",
   "execution_count": 1,
   "metadata": {},
   "outputs": [],
   "source": [
    " from sklearn import tree"
   ]
  },
  {
   "cell_type": "code",
   "execution_count": 26,
   "metadata": {},
   "outputs": [],
   "source": [
    "X=[[181,80,44],[177,70,43],[160,60,38],[154,54,37],[166,65,40],[190,90,47],\n",
    "  [175,64,39],[177,70,40],[159,55,37],[171,75,42],[181,85,43]]\n",
    "y=[0,1,1,1,0,0,0,1,0,1,0]"
   ]
  },
  {
   "cell_type": "code",
   "execution_count": 19,
   "metadata": {},
   "outputs": [
    {
     "name": "stderr",
     "output_type": "stream",
     "text": [
      "C:\\Users\\JAIN\\Anaconda3\\lib\\site-packages\\sklearn\\ensemble\\forest.py:245: FutureWarning: The default value of n_estimators will change from 10 in version 0.20 to 100 in 0.22.\n",
      "  \"10 in version 0.20 to 100 in 0.22.\", FutureWarning)\n",
      "C:\\Users\\JAIN\\Anaconda3\\lib\\site-packages\\sklearn\\linear_model\\logistic.py:432: FutureWarning: Default solver will be changed to 'lbfgs' in 0.22. Specify a solver to silence this warning.\n",
      "  FutureWarning)\n"
     ]
    }
   ],
   "source": [
    "clf_Tree=tree.DecisionTreeClassifier()\n",
    "clf_Tree=clf_Tree.fit(X,y)\n",
    "\n",
    "#RandomForest\n",
    "from sklearn.ensemble import RandomForestRegressor\n",
    "clf_rf=RandomForestRegressor()\n",
    "clf_rf=clf_rf.fit(X,y)\n",
    "\n",
    "#logistic Regression\n",
    "from sklearn.linear_model import LogisticRegression\n",
    "clf_lr=LogisticRegression(random_state=0)\n",
    "clf_lr=clf_lr.fit(X,y)"
   ]
  },
  {
   "cell_type": "code",
   "execution_count": 25,
   "metadata": {},
   "outputs": [
    {
     "name": "stdout",
     "output_type": "stream",
     "text": [
      "Enter height(in cm): \n"
     ]
    },
    {
     "name": "stdin",
     "output_type": "stream",
     "text": [
      " 158\n"
     ]
    },
    {
     "name": "stdout",
     "output_type": "stream",
     "text": [
      "Enter Wweight (in kg): \n"
     ]
    },
    {
     "name": "stdin",
     "output_type": "stream",
     "text": [
      " 62\n"
     ]
    },
    {
     "name": "stdout",
     "output_type": "stream",
     "text": [
      "Enter Shoe size: \n"
     ]
    },
    {
     "name": "stdin",
     "output_type": "stream",
     "text": [
      " 38\n"
     ]
    },
    {
     "name": "stdout",
     "output_type": "stream",
     "text": [
      "Prediction form Decision Tree: female\n",
      "Prediction form Random Forest: male\n",
      "Prediction form Logistic Regression: female\n"
     ]
    }
   ],
   "source": [
    "print(\"Enter height(in cm): \")\n",
    "h=int(input())\n",
    "print(\"Enter Wweight (in kg): \")\n",
    "w=int(input())\n",
    "print(\"Enter Shoe size: \")\n",
    "ss=int(input())\n",
    "pData=[h,w,ss]\n",
    "pred=['male','female']\n",
    "prediction=int(clf_Tree.predict([pData]))\n",
    "print(\"Prediction form Decision Tree: \"+str(pred[prediction]))\n",
    "pred2=int(clf_rf.predict([pData]))\n",
    "print(\"Prediction form Random Forest: \"+str(pred[pred2]))\n",
    "pred3=int(clf_lr.predict([pData]))\n",
    "print(\"Prediction form Logistic Regression: \"+str(pred[pred3]))"
   ]
  }
 ],
 "metadata": {
  "kernelspec": {
   "display_name": "Python 3",
   "language": "python",
   "name": "python3"
  },
  "language_info": {
   "codemirror_mode": {
    "name": "ipython",
    "version": 3
   },
   "file_extension": ".py",
   "mimetype": "text/x-python",
   "name": "python",
   "nbconvert_exporter": "python",
   "pygments_lexer": "ipython3",
   "version": "3.7.4"
  }
 },
 "nbformat": 4,
 "nbformat_minor": 4
}
